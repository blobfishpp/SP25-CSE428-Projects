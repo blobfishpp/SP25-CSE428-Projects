{
 "cells": [
  {
   "cell_type": "markdown",
   "id": "d9e4a607",
   "metadata": {},
   "source": [
    "## Breast Cancer Locator Workflow"
   ]
  },
  {
   "cell_type": "markdown",
   "id": "decb4575",
   "metadata": {},
   "source": [
    "### Step 0: Import packages"
   ]
  },
  {
   "cell_type": "code",
   "execution_count": null,
   "id": "3f93d02b",
   "metadata": {},
   "outputs": [],
   "source": [
    "%pip install dashscope\n",
    "%pip install Pillow"
   ]
  },
  {
   "cell_type": "code",
   "execution_count": null,
   "id": "560a65f4",
   "metadata": {},
   "outputs": [],
   "source": [
    "from labeling_process import LabelingProcess\n",
    "import constants as _\n",
    "from pathlib import Path\n",
    "from file_utils import CSVHandler\n",
    "from comparing_utils import AccuracyCalculator"
   ]
  },
  {
   "cell_type": "markdown",
   "id": "ab1e469c",
   "metadata": {},
   "source": [
    "### Step 1: Read dataset"
   ]
  },
  {
   "cell_type": "code",
   "execution_count": null,
   "id": "612bd87a",
   "metadata": {},
   "outputs": [],
   "source": [
    "file = CSVHandler()\n",
    "unlabled_patients, labeled_patients = file.read_from_csv(f\"{Path.cwd()}/Breast Cancer Annotation - Dataset.csv\")"
   ]
  },
  {
   "cell_type": "markdown",
   "id": "20d444b1",
   "metadata": {},
   "source": [
    "### Step 2: Define the experiment setup\n",
    "For each experiment, define\n",
    "- the dataset\n",
    "- the model\n",
    "- the prompt\n",
    "\n",
    "For more details see `README.txt`"
   ]
  },
  {
   "cell_type": "code",
   "execution_count": null,
   "id": "ac11ef37",
   "metadata": {},
   "outputs": [],
   "source": [
    "l_p_0 = LabelingProcess(unlabled_patients, _.QwenMaxModelName, _.BasePrompt)\n",
    "l_p_1 = LabelingProcess(unlabled_patients, _.QwenMaxModelName, _.OptimizedV1)\n",
    "l_p_2 = LabelingProcess(unlabled_patients, _.QwenPlusModelName, _.BasePrompt)\n",
    "l_p_3 = LabelingProcess(unlabled_patients, _.QwenPlusModelName, _.OptimizedV1)"
   ]
  },
  {
   "cell_type": "markdown",
   "id": "06ebaf8a",
   "metadata": {},
   "source": [
    "### Step 3: Process each experiment\n",
    "For each experiment, choose `n` patients to be labeled."
   ]
  },
  {
   "cell_type": "markdown",
   "id": "23cbfb04",
   "metadata": {},
   "source": [
    "#### Experiment 0"
   ]
  },
  {
   "cell_type": "code",
   "execution_count": null,
   "id": "be9e44fb",
   "metadata": {},
   "outputs": [],
   "source": [
    "result_name_and_path_0 = l_p_0.get_label_results(1)"
   ]
  },
  {
   "cell_type": "code",
   "execution_count": null,
   "id": "c74e3cf4",
   "metadata": {},
   "outputs": [],
   "source": [
    "ac0 = AccuracyCalculator(labeled_patients)\n",
    "ac0.get_accuracy_without_weight(f\"{l_p_0.output_path}/{l_p_0.output_name}.csv\")\n",
    "ac0.save_accuracy(l_p_0.output_path, f\"{l_p_0.model_name}-accuracies-v{_.BasePrompt}-{l_p_0.now}\")"
   ]
  },
  {
   "cell_type": "markdown",
   "id": "a3cb238b",
   "metadata": {},
   "source": [
    "#### Experiment 1"
   ]
  },
  {
   "cell_type": "code",
   "execution_count": null,
   "id": "5ac357d2",
   "metadata": {},
   "outputs": [],
   "source": [
    "result_name_and_path_1 = l_p_1.get_label_results(1)"
   ]
  },
  {
   "cell_type": "code",
   "execution_count": null,
   "id": "1e8e281d",
   "metadata": {},
   "outputs": [],
   "source": [
    "ac1 = AccuracyCalculator(labeled_patients)\n",
    "ac1.get_accuracy_without_weight(f\"{l_p_1.output_path}/{l_p_1.output_name}.csv\")\n",
    "ac1.save_accuracy(l_p_1.output_path, f\"{l_p_1.model_name}-accuracies-v{_.OptimizedV1}-{l_p_1.now}\")"
   ]
  },
  {
   "cell_type": "markdown",
   "id": "58b1f571",
   "metadata": {},
   "source": [
    "#### Experiment 2"
   ]
  },
  {
   "cell_type": "code",
   "execution_count": null,
   "id": "76b306a7",
   "metadata": {},
   "outputs": [],
   "source": [
    "result_name_and_path_2 = l_p_2.get_label_results(1)"
   ]
  },
  {
   "cell_type": "code",
   "execution_count": null,
   "id": "12157b78",
   "metadata": {},
   "outputs": [],
   "source": [
    "ac2 = AccuracyCalculator(labeled_patients)\n",
    "ac2.get_accuracy_without_weight(f\"{l_p_2.output_path}/{l_p_2.output_name}.csv\")\n",
    "ac2.save_accuracy(l_p_2.output_path, f\"{l_p_2.model_name}-accuracies-v{_.BasePrompt}-{l_p_2.now}\")"
   ]
  },
  {
   "cell_type": "markdown",
   "id": "dd341cc1",
   "metadata": {},
   "source": [
    "#### Experiment 3"
   ]
  },
  {
   "cell_type": "code",
   "execution_count": null,
   "id": "957d0afe",
   "metadata": {},
   "outputs": [],
   "source": [
    "result_name_and_path_3 = l_p_3.get_label_results(1)"
   ]
  },
  {
   "cell_type": "code",
   "execution_count": null,
   "id": "ffb9674f",
   "metadata": {},
   "outputs": [],
   "source": [
    "ac3 = AccuracyCalculator(labeled_patients)\n",
    "ac3.get_accuracy_without_weight(f\"{l_p_3.output_path}/{l_p_3.output_name}.csv\")\n",
    "ac3.save_accuracy(l_p_3.output_path, f\"{l_p_3.model_name}-accuracies-v{_.OptimizedV1}-{l_p_3.now}\")"
   ]
  }
 ],
 "metadata": {
  "kernelspec": {
   "display_name": "Python 3",
   "language": "python",
   "name": "python3"
  },
  "language_info": {
   "codemirror_mode": {
    "name": "ipython",
    "version": 3
   },
   "file_extension": ".py",
   "mimetype": "text/x-python",
   "name": "python",
   "nbconvert_exporter": "python",
   "pygments_lexer": "ipython3",
   "version": "3.12.10"
  }
 },
 "nbformat": 4,
 "nbformat_minor": 5
}
